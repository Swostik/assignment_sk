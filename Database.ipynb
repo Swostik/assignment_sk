{
 "cells": [
  {
   "cell_type": "markdown",
   "id": "1026d203",
   "metadata": {},
   "source": [
    "### Fetching data from API"
   ]
  },
  {
   "cell_type": "code",
   "execution_count": 1,
   "id": "480b6eb5",
   "metadata": {
    "ExecuteTime": {
     "end_time": "2021-12-21T12:49:34.826527Z",
     "start_time": "2021-12-21T12:49:30.592150Z"
    }
   },
   "outputs": [
    {
     "data": {
      "text/plain": [
       "True"
      ]
     },
     "execution_count": 1,
     "metadata": {},
     "output_type": "execute_result"
    }
   ],
   "source": [
    "import requests\n",
    "import json\n",
    "import psycopg2\n",
    "import os\n",
    "from dotenv import load_dotenv\n",
    "load_dotenv()"
   ]
  },
  {
   "cell_type": "markdown",
   "id": "729473ec",
   "metadata": {
    "ExecuteTime": {
     "end_time": "2021-12-19T20:15:23.147459Z",
     "start_time": "2021-12-19T20:15:23.134469Z"
    }
   },
   "source": [
    "### Main function\n",
    "- sends a post request\n",
    "- gets the data in json format\n",
    "- fetches the required field (postal code and average monetary income)\n",
    "- connects to the database and sends the data to the database"
   ]
  },
  {
   "cell_type": "code",
   "execution_count": 2,
   "id": "d2b7b030",
   "metadata": {
    "ExecuteTime": {
     "end_time": "2021-12-21T12:49:34.873501Z",
     "start_time": "2021-12-21T12:49:34.831525Z"
    }
   },
   "outputs": [],
   "source": [
    "def getData(url, post_code,table_name,values=\"hr_ktu\"):\n",
    "    \n",
    "    \n",
    "    query={\n",
    "      \"query\": [\n",
    "        {\n",
    "          \"code\": \"Postinumeroalue\",\n",
    "          \"selection\": {\n",
    "            \"filter\": \"item\",\n",
    "            \"values\": post_code\n",
    "\n",
    "          }\n",
    "        },\n",
    "        {\n",
    "          \"code\": \"Tiedot\",\n",
    "          \"selection\": {\n",
    "            \"filter\": \"item\",\n",
    "            \"values\": [\n",
    "              values\n",
    "            ]\n",
    "          }\n",
    "        }\n",
    "      ],\n",
    "      \"response\": {\n",
    "        \"format\": \"json-stat2\"\n",
    "      }\n",
    "    }\n",
    "    response = requests.post(url, json=query)\n",
    "    content = response.json()\n",
    "    print(f\"Data fetched successfully for {table_name}\")\n",
    "    #labels= content['dimension']['Postinumeroalue']['category']['label']\n",
    "    #label = [(\" \".join(i.split())) for i in labels.values()]\n",
    "    \n",
    "    #print(label)\n",
    "    data = content['value']\n",
    "    print(\"connecting database...\")\n",
    "    conn = psycopg2.connect(\n",
    "    database=\"practice\", user=os.environ.get('DB_USER'), password=os.environ.get('DB_PASSWORD'), host='127.0.0.1', port= '5432',options=\"-c search_path=test,public\"\n",
    "    )\n",
    "    cursor =  conn.cursor()\n",
    "    cursor.execute((\"DROP TABLE IF EXISTS {}\").format(table_name))\n",
    "    query = \"CREATE TABLE {} (POST_CODE CHAR(5),AVERAGE_INCOME INT)\".format(table_name)\n",
    "    cursor.execute(query)\n",
    "    print(f\"Table {table_name} created\")\n",
    "    sql = \"INSERT INTO {} (POST_CODE,AVERAGE_INCOME) VALUES(%s,%s)\".format(table_name)\n",
    "    for i in range(5):\n",
    "        cursor.execute(sql, (post_code[i], data[i]))\n",
    "    print(\"Data entered to the table\")\n",
    "    conn.commit()\n",
    "    conn.close()\n",
    "    print(\"connection closed\")\n",
    "    "
   ]
  },
  {
   "cell_type": "markdown",
   "id": "aa15455a",
   "metadata": {},
   "source": [
    "#### Data for 2021"
   ]
  },
  {
   "cell_type": "code",
   "execution_count": 3,
   "id": "368e44cf",
   "metadata": {
    "ExecuteTime": {
     "end_time": "2021-12-21T12:49:36.570321Z",
     "start_time": "2021-12-21T12:49:34.878496Z"
    }
   },
   "outputs": [
    {
     "name": "stdout",
     "output_type": "stream",
     "text": [
      "Data fetched successfully for TABLE_2021\n",
      "connecting database...\n",
      "Table TABLE_2021 created\n",
      "Data entered to the table\n",
      "connection closed\n"
     ]
    }
   ],
   "source": [
    "url = 'https://pxnet2.stat.fi:443/PXWeb/api/v1/en/Postinumeroalueittainen_avoin_tieto/2021/paavo_pxt_12f1.px'\n",
    "post_code = [\"00130\",\"02380\",\"16710\",\"41930\",\"54800\"]\n",
    "table_name = \"TABLE_2021\"\n",
    "getData(url, post_code,table_name)"
   ]
  },
  {
   "cell_type": "markdown",
   "id": "9cab4c40",
   "metadata": {
    "ExecuteTime": {
     "end_time": "2021-12-19T16:11:32.242908Z",
     "start_time": "2021-12-19T16:11:32.216921Z"
    }
   },
   "source": [
    "#### Data for 2020"
   ]
  },
  {
   "cell_type": "code",
   "execution_count": 4,
   "id": "9d52010a",
   "metadata": {
    "ExecuteTime": {
     "end_time": "2021-12-21T12:49:36.866070Z",
     "start_time": "2021-12-21T12:49:36.580312Z"
    }
   },
   "outputs": [
    {
     "name": "stdout",
     "output_type": "stream",
     "text": [
      "Data fetched successfully for TABLE_2020\n",
      "connecting database...\n",
      "Table TABLE_2020 created\n",
      "Data entered to the table\n",
      "connection closed\n"
     ]
    }
   ],
   "source": [
    "url = 'https://pxnet2.stat.fi:443/PXWeb/api/v1/en/Postinumeroalueittainen_avoin_tieto/2020/paavo_pxt_12f1.px'\n",
    "post_code = [\"00130\",\"02380\",\"16710\",\"41930\",\"54800\"]\n",
    "table_name = \"TABLE_2020\"\n",
    "getData(url, post_code,table_name)"
   ]
  },
  {
   "cell_type": "markdown",
   "id": "8f0a854b",
   "metadata": {
    "ExecuteTime": {
     "end_time": "2021-12-19T20:28:50.552685Z",
     "start_time": "2021-12-19T20:28:50.540694Z"
    }
   },
   "source": [
    "#### Data for 2019"
   ]
  },
  {
   "cell_type": "code",
   "execution_count": 5,
   "id": "7d5cd08e",
   "metadata": {
    "ExecuteTime": {
     "end_time": "2021-12-21T12:49:37.244402Z",
     "start_time": "2021-12-21T12:49:36.869069Z"
    }
   },
   "outputs": [
    {
     "name": "stdout",
     "output_type": "stream",
     "text": [
      "Data fetched successfully for TABLE_2019\n",
      "connecting database...\n",
      "Table TABLE_2019 created\n",
      "Data entered to the table\n",
      "connection closed\n"
     ]
    }
   ],
   "source": [
    "url = 'https://pxnet2.stat.fi:443/PXWeb/api/v1/en/Postinumeroalueittainen_avoin_tieto/2019/paavo_3_hr_2019.px'\n",
    "post_code = [\"00130\",\"02380\",\"16710\",\"41930\",\"54800\"]\n",
    "table_name = \"TABLE_2019\"\n",
    "getData(url, post_code,table_name,values=\"Hr_ktu\")\n"
   ]
  },
  {
   "cell_type": "markdown",
   "id": "63fc2bca",
   "metadata": {
    "ExecuteTime": {
     "end_time": "2021-12-19T20:33:22.210395Z",
     "start_time": "2021-12-19T20:33:22.186408Z"
    }
   },
   "source": [
    "#### Data from 2018"
   ]
  },
  {
   "cell_type": "code",
   "execution_count": 6,
   "id": "108f2089",
   "metadata": {
    "ExecuteTime": {
     "end_time": "2021-12-21T12:49:37.701942Z",
     "start_time": "2021-12-21T12:49:37.247401Z"
    }
   },
   "outputs": [
    {
     "name": "stdout",
     "output_type": "stream",
     "text": [
      "Data fetched successfully for TABLE_2018\n",
      "connecting database...\n",
      "Table TABLE_2018 created\n",
      "Data entered to the table\n",
      "connection closed\n"
     ]
    }
   ],
   "source": [
    "url = 'https://pxnet2.stat.fi:443/PXWeb/api/v1/en/Postinumeroalueittainen_avoin_tieto/2018/paavo_3_hr_2018.px'\n",
    "post_code = [\"00130\",\"02380\",\"16710\",\"41930\",\"54800\"]\n",
    "table_name = \"TABLE_2018\"\n",
    "getData(url, post_code,table_name,values=\"Hr_ktu\")"
   ]
  },
  {
   "cell_type": "markdown",
   "id": "2fa0737a",
   "metadata": {},
   "source": [
    "#### Data from 2017"
   ]
  },
  {
   "cell_type": "code",
   "execution_count": 7,
   "id": "3b2cd44c",
   "metadata": {
    "ExecuteTime": {
     "end_time": "2021-12-21T12:49:38.000877Z",
     "start_time": "2021-12-21T12:49:37.703939Z"
    }
   },
   "outputs": [
    {
     "name": "stdout",
     "output_type": "stream",
     "text": [
      "Data fetched successfully for TABLE_2017\n",
      "connecting database...\n",
      "Table TABLE_2017 created\n",
      "Data entered to the table\n",
      "connection closed\n"
     ]
    }
   ],
   "source": [
    "url = 'https://pxnet2.stat.fi:443/PXWeb/api/v1/en/Postinumeroalueittainen_avoin_tieto/2017/paavo_3_hr_2017.px'\n",
    "post_code = [\"00130\",\"02380\",\"16710\",\"41930\",\"54800\"]\n",
    "table_name = \"TABLE_2017\"\n",
    "getData(url, post_code,table_name,values=\"Hr_ktu\")"
   ]
  },
  {
   "cell_type": "markdown",
   "id": "5f3b2ad8",
   "metadata": {},
   "source": [
    "-Note: the values in the hson query for code Tiedot have Hr_ktu for last 2 years and hr_ktu for the 3 years before that, hence, parameter named values in the function"
   ]
  },
  {
   "cell_type": "code",
   "execution_count": null,
   "id": "4bc7ff47",
   "metadata": {},
   "outputs": [],
   "source": []
  }
 ],
 "metadata": {
  "hide_input": false,
  "kernelspec": {
   "display_name": "Python 3",
   "language": "python",
   "name": "python3"
  },
  "language_info": {
   "codemirror_mode": {
    "name": "ipython",
    "version": 3
   },
   "file_extension": ".py",
   "mimetype": "text/x-python",
   "name": "python",
   "nbconvert_exporter": "python",
   "pygments_lexer": "ipython3",
   "version": "3.8.8"
  },
  "toc": {
   "base_numbering": 1,
   "nav_menu": {},
   "number_sections": true,
   "sideBar": true,
   "skip_h1_title": false,
   "title_cell": "Table of Contents",
   "title_sidebar": "Contents",
   "toc_cell": false,
   "toc_position": {},
   "toc_section_display": true,
   "toc_window_display": false
  }
 },
 "nbformat": 4,
 "nbformat_minor": 5
}
