{
 "cells": [
  {
   "cell_type": "code",
   "execution_count": 24,
   "id": "99dd98d5",
   "metadata": {
    "ExecuteTime": {
     "end_time": "2021-12-21T13:05:25.301969Z",
     "start_time": "2021-12-21T13:05:25.291976Z"
    }
   },
   "outputs": [],
   "source": [
    "import pandas as pd\n",
    "import psycopg2\n",
    "import numpy as np"
   ]
  },
  {
   "cell_type": "markdown",
   "id": "8a6682c7",
   "metadata": {},
   "source": [
    "### Database connection"
   ]
  },
  {
   "cell_type": "code",
   "execution_count": 14,
   "id": "c95f799d",
   "metadata": {
    "ExecuteTime": {
     "end_time": "2021-12-21T13:03:49.151863Z",
     "start_time": "2021-12-21T13:03:49.061848Z"
    }
   },
   "outputs": [],
   "source": [
    "conn = psycopg2.connect(\n",
    "    database=\"practice\", user='postgres', password='password', host='127.0.0.1', port= '5432',options=\"-c search_path=test,public\"\n",
    "    )"
   ]
  },
  {
   "cell_type": "markdown",
   "id": "9bf55874",
   "metadata": {},
   "source": [
    "### SQL query \n",
    "- The query to get all the columns from all the tables"
   ]
  },
  {
   "cell_type": "code",
   "execution_count": 15,
   "id": "4c9e9ed6",
   "metadata": {
    "ExecuteTime": {
     "end_time": "2021-12-21T13:03:50.364765Z",
     "start_time": "2021-12-21T13:03:50.355770Z"
    }
   },
   "outputs": [],
   "source": [
    "sql = \"\"\" SELECT \n",
    "    t21.post_code,\n",
    "    t17.average_income average_income_2017,\n",
    "    t18.average_income average_income_2018,\n",
    "    t19.average_income average_income_2019,\n",
    "    t20.average_income average_income_2020,\n",
    "    t21.average_income average_income_2021\n",
    "   FROM table_2021 t21 \n",
    "    INNER JOIN \n",
    "    table_2020 t20 ON t20.post_code = t21.post_code\n",
    "    INNER JOIN \n",
    "    table_2019 t19 ON t19.post_code = t21.post_code\n",
    "    INNER JOIN \n",
    "    table_2018 t18 ON t18.post_code = t21.post_code\n",
    "    INNER JOIN \n",
    "    table_2017 t17 ON t17.post_code = t21.post_code\n",
    "        \"\"\""
   ]
  },
  {
   "cell_type": "code",
   "execution_count": 16,
   "id": "0690d20d",
   "metadata": {
    "ExecuteTime": {
     "end_time": "2021-12-21T13:03:51.675474Z",
     "start_time": "2021-12-21T13:03:51.460488Z"
    }
   },
   "outputs": [],
   "source": [
    "df = pd.read_sql(sql,conn, index_col='post_code')\n",
    "conn.close()"
   ]
  },
  {
   "cell_type": "code",
   "execution_count": 17,
   "id": "70a538ff",
   "metadata": {
    "ExecuteTime": {
     "end_time": "2021-12-21T13:03:53.916533Z",
     "start_time": "2021-12-21T13:03:53.903543Z"
    }
   },
   "outputs": [
    {
     "data": {
      "text/html": [
       "<div>\n",
       "<style scoped>\n",
       "    .dataframe tbody tr th:only-of-type {\n",
       "        vertical-align: middle;\n",
       "    }\n",
       "\n",
       "    .dataframe tbody tr th {\n",
       "        vertical-align: top;\n",
       "    }\n",
       "\n",
       "    .dataframe thead th {\n",
       "        text-align: right;\n",
       "    }\n",
       "</style>\n",
       "<table border=\"1\" class=\"dataframe\">\n",
       "  <thead>\n",
       "    <tr style=\"text-align: right;\">\n",
       "      <th></th>\n",
       "      <th>average_income_2017</th>\n",
       "      <th>average_income_2018</th>\n",
       "      <th>average_income_2019</th>\n",
       "      <th>average_income_2020</th>\n",
       "      <th>average_income_2021</th>\n",
       "    </tr>\n",
       "    <tr>\n",
       "      <th>post_code</th>\n",
       "      <th></th>\n",
       "      <th></th>\n",
       "      <th></th>\n",
       "      <th></th>\n",
       "      <th></th>\n",
       "    </tr>\n",
       "  </thead>\n",
       "  <tbody>\n",
       "    <tr>\n",
       "      <th>00130</th>\n",
       "      <td>51401</td>\n",
       "      <td>53489</td>\n",
       "      <td>49622</td>\n",
       "      <td>57766</td>\n",
       "      <td>61933</td>\n",
       "    </tr>\n",
       "    <tr>\n",
       "      <th>02380</th>\n",
       "      <td>57500</td>\n",
       "      <td>60722</td>\n",
       "      <td>58026</td>\n",
       "      <td>67865</td>\n",
       "      <td>69041</td>\n",
       "    </tr>\n",
       "    <tr>\n",
       "      <th>16710</th>\n",
       "      <td>25893</td>\n",
       "      <td>25649</td>\n",
       "      <td>26444</td>\n",
       "      <td>27746</td>\n",
       "      <td>30005</td>\n",
       "    </tr>\n",
       "    <tr>\n",
       "      <th>41930</th>\n",
       "      <td>22526</td>\n",
       "      <td>23287</td>\n",
       "      <td>24035</td>\n",
       "      <td>24346</td>\n",
       "      <td>25735</td>\n",
       "    </tr>\n",
       "    <tr>\n",
       "      <th>54800</th>\n",
       "      <td>20754</td>\n",
       "      <td>21053</td>\n",
       "      <td>21118</td>\n",
       "      <td>21434</td>\n",
       "      <td>22636</td>\n",
       "    </tr>\n",
       "  </tbody>\n",
       "</table>\n",
       "</div>"
      ],
      "text/plain": [
       "           average_income_2017  average_income_2018  average_income_2019  \\\n",
       "post_code                                                                  \n",
       "00130                    51401                53489                49622   \n",
       "02380                    57500                60722                58026   \n",
       "16710                    25893                25649                26444   \n",
       "41930                    22526                23287                24035   \n",
       "54800                    20754                21053                21118   \n",
       "\n",
       "           average_income_2020  average_income_2021  \n",
       "post_code                                            \n",
       "00130                    57766                61933  \n",
       "02380                    67865                69041  \n",
       "16710                    27746                30005  \n",
       "41930                    24346                25735  \n",
       "54800                    21434                22636  "
      ]
     },
     "execution_count": 17,
     "metadata": {},
     "output_type": "execute_result"
    }
   ],
   "source": [
    "df"
   ]
  },
  {
   "cell_type": "code",
   "execution_count": 18,
   "id": "5e30f7f6",
   "metadata": {
    "ExecuteTime": {
     "end_time": "2021-12-21T13:03:57.130475Z",
     "start_time": "2021-12-21T13:03:57.052513Z"
    }
   },
   "outputs": [
    {
     "data": {
      "text/html": [
       "<div>\n",
       "<style scoped>\n",
       "    .dataframe tbody tr th:only-of-type {\n",
       "        vertical-align: middle;\n",
       "    }\n",
       "\n",
       "    .dataframe tbody tr th {\n",
       "        vertical-align: top;\n",
       "    }\n",
       "\n",
       "    .dataframe thead th {\n",
       "        text-align: right;\n",
       "    }\n",
       "</style>\n",
       "<table border=\"1\" class=\"dataframe\">\n",
       "  <thead>\n",
       "    <tr style=\"text-align: right;\">\n",
       "      <th></th>\n",
       "      <th>average_income_2017</th>\n",
       "      <th>average_income_2018</th>\n",
       "      <th>average_income_2019</th>\n",
       "      <th>average_income_2020</th>\n",
       "      <th>average_income_2021</th>\n",
       "      <th>percent_increase</th>\n",
       "    </tr>\n",
       "    <tr>\n",
       "      <th>post_code</th>\n",
       "      <th></th>\n",
       "      <th></th>\n",
       "      <th></th>\n",
       "      <th></th>\n",
       "      <th></th>\n",
       "      <th></th>\n",
       "    </tr>\n",
       "  </thead>\n",
       "  <tbody>\n",
       "    <tr>\n",
       "      <th>00130</th>\n",
       "      <td>51401</td>\n",
       "      <td>53489</td>\n",
       "      <td>49622</td>\n",
       "      <td>57766</td>\n",
       "      <td>61933</td>\n",
       "      <td>20.489874</td>\n",
       "    </tr>\n",
       "    <tr>\n",
       "      <th>02380</th>\n",
       "      <td>57500</td>\n",
       "      <td>60722</td>\n",
       "      <td>58026</td>\n",
       "      <td>67865</td>\n",
       "      <td>69041</td>\n",
       "      <td>20.071304</td>\n",
       "    </tr>\n",
       "    <tr>\n",
       "      <th>16710</th>\n",
       "      <td>25893</td>\n",
       "      <td>25649</td>\n",
       "      <td>26444</td>\n",
       "      <td>27746</td>\n",
       "      <td>30005</td>\n",
       "      <td>15.880740</td>\n",
       "    </tr>\n",
       "    <tr>\n",
       "      <th>41930</th>\n",
       "      <td>22526</td>\n",
       "      <td>23287</td>\n",
       "      <td>24035</td>\n",
       "      <td>24346</td>\n",
       "      <td>25735</td>\n",
       "      <td>14.245760</td>\n",
       "    </tr>\n",
       "    <tr>\n",
       "      <th>54800</th>\n",
       "      <td>20754</td>\n",
       "      <td>21053</td>\n",
       "      <td>21118</td>\n",
       "      <td>21434</td>\n",
       "      <td>22636</td>\n",
       "      <td>9.068131</td>\n",
       "    </tr>\n",
       "  </tbody>\n",
       "</table>\n",
       "</div>"
      ],
      "text/plain": [
       "           average_income_2017  average_income_2018  average_income_2019  \\\n",
       "post_code                                                                  \n",
       "00130                    51401                53489                49622   \n",
       "02380                    57500                60722                58026   \n",
       "16710                    25893                25649                26444   \n",
       "41930                    22526                23287                24035   \n",
       "54800                    20754                21053                21118   \n",
       "\n",
       "           average_income_2020  average_income_2021  percent_increase  \n",
       "post_code                                                              \n",
       "00130                    57766                61933         20.489874  \n",
       "02380                    67865                69041         20.071304  \n",
       "16710                    27746                30005         15.880740  \n",
       "41930                    24346                25735         14.245760  \n",
       "54800                    21434                22636          9.068131  "
      ]
     },
     "execution_count": 18,
     "metadata": {},
     "output_type": "execute_result"
    }
   ],
   "source": [
    "df['percent_increase'] = ((df['average_income_2021'] - df['average_income_2017'])/df['average_income_2017'])*100\n",
    "df.head()"
   ]
  },
  {
   "cell_type": "code",
   "execution_count": 25,
   "id": "bfc53959",
   "metadata": {
    "ExecuteTime": {
     "end_time": "2021-12-21T13:05:39.918257Z",
     "start_time": "2021-12-21T13:05:39.899266Z"
    }
   },
   "outputs": [
    {
     "name": "stdout",
     "output_type": "stream",
     "text": [
      "The postal code with maximum percent increase in last five years: 00130\n"
     ]
    }
   ],
   "source": [
    "print(f\"The postal code with maximum percent increase in last five years: {df.index[np.argmax(max(df['percent_increase']))]}\")"
   ]
  },
  {
   "cell_type": "code",
   "execution_count": null,
   "id": "aecaa0ef",
   "metadata": {},
   "outputs": [],
   "source": []
  }
 ],
 "metadata": {
  "hide_input": false,
  "kernelspec": {
   "display_name": "Python 3",
   "language": "python",
   "name": "python3"
  },
  "language_info": {
   "codemirror_mode": {
    "name": "ipython",
    "version": 3
   },
   "file_extension": ".py",
   "mimetype": "text/x-python",
   "name": "python",
   "nbconvert_exporter": "python",
   "pygments_lexer": "ipython3",
   "version": "3.8.8"
  },
  "toc": {
   "base_numbering": 1,
   "nav_menu": {},
   "number_sections": true,
   "sideBar": true,
   "skip_h1_title": false,
   "title_cell": "Table of Contents",
   "title_sidebar": "Contents",
   "toc_cell": false,
   "toc_position": {},
   "toc_section_display": true,
   "toc_window_display": false
  }
 },
 "nbformat": 4,
 "nbformat_minor": 5
}
